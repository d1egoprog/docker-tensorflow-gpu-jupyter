{
 "cells": [
  {
   "cell_type": "code",
   "execution_count": null,
   "id": "8291cf70-5c17-4029-b2d1-7366d75f7ddc",
   "metadata": {},
   "outputs": [],
   "source": [
    "#Example package installation\n",
    "!pip install pandas"
   ]
  }
 ],
 "metadata": {
  "kernelspec": {
   "display_name": "Python 3",
   "language": "python",
   "name": "python3"
  },
  "language_info": {
   "codemirror_mode": {
    "name": "ipython",
    "version": 3
   },
   "file_extension": ".py",
   "mimetype": "text/x-python",
   "name": "python",
   "nbconvert_exporter": "python",
   "pygments_lexer": "ipython3",
   "version": "3.6.9"
  },
  "vscode": {
   "interpreter": {
    "hash": "899a0a7f5ba9ad09cad237ad8ed54dad51e64adbe523687e318d1ea76453552a"
   }
  }
 },
 "nbformat": 4,
 "nbformat_minor": 5
}
