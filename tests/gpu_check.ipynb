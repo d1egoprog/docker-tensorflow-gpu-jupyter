{
 "cells": [
  {
   "cell_type": "code",
   "execution_count": null,
   "id": "8291cf70-5c17-4029-b2d1-7366d75f7ddc",
   "metadata": {},
   "outputs": [],
   "source": [
    "import tensorflow as tf\n",
    "print(tf.__version__) # 3.8"
   ]
  },
  {
   "cell_type": "code",
   "execution_count": null,
   "id": "866eec98",
   "metadata": {},
   "outputs": [],
   "source": [
    "!nvidia-smi"
   ]
  },
  {
   "cell_type": "code",
   "execution_count": null,
   "id": "ae6ba775-077f-495b-bf8f-a5ec4e1f3823",
   "metadata": {},
   "outputs": [],
   "source": [
    "import tensorflow as tf\n",
    "print(\"Num GPUs Available: \", len(tf.config.experimental.list_physical_devices('GPU')))\n",
    "print(\"Description of GPUs: \", tf.config.experimental.list_physical_devices('GPU'))"
   ]
  },
  {
   "cell_type": "code",
   "execution_count": null,
   "id": "ffe92879-c133-497c-847b-d0566e5a742f",
   "metadata": {},
   "outputs": [],
   "source": [
    "from tensorflow.python.client import device_lib\n",
    "print(\"Complete Device List: \\n\", device_lib.list_local_devices())"
   ]
  }
 ],
 "metadata": {
  "kernelspec": {
   "display_name": "Python 3",
   "language": "python",
   "name": "python3"
  },
  "language_info": {
   "codemirror_mode": {
    "name": "ipython",
    "version": 3
   },
   "file_extension": ".py",
   "mimetype": "text/x-python",
   "name": "python",
   "nbconvert_exporter": "python",
   "pygments_lexer": "ipython3",
   "version": "3.6.9"
  },
  "vscode": {
   "interpreter": {
    "hash": "899a0a7f5ba9ad09cad237ad8ed54dad51e64adbe523687e318d1ea76453552a"
   }
  }
 },
 "nbformat": 4,
 "nbformat_minor": 5
}
